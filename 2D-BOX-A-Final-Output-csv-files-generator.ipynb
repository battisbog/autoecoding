{
 "cells": [
  {
   "cell_type": "code",
   "execution_count": 1,
   "id": "e7ab4e53",
   "metadata": {},
   "outputs": [],
   "source": [
    "import matplotlib.pyplot as plt\n",
    "import random\n",
    "from matplotlib.patches import Circle\n",
    "import numpy as np\n",
    "import pandas as pd\n",
    "from sklearn.linear_model import LogisticRegression\n",
    "from sklearn.metrics import classification_report, confusion_matrix"
   ]
  },
  {
   "cell_type": "code",
   "execution_count": 7,
   "id": "8a7e2764",
   "metadata": {},
   "outputs": [
    {
     "data": {
      "image/png": "[encoded data removed]",
      "text/plain": [
       "<Figure size 640x480 with 1 Axes>"
      ]
     },
     "metadata": {},
     "output_type": "display_data"
    },
    {
     "name": "stdout",
     "output_type": "stream",
     "text": [
      "Total number of points generated inside the box: 1089\n"
     ]
    },
    {
     "data": {
      "image/png": "[encoded data removed]",
      "text/plain": [
       "<Figure size 640x480 with 1 Axes>"
      ]
     },
     "metadata": {},
     "output_type": "display_data"
    }
   ],
   "source": [
    "#Define the 2D Box, Points inside the box and the circle\n",
    "\n",
    "def draw_square(x, y, side_length):\n",
    "    x_points = [x, x + side_length, x + side_length, x, x]\n",
    "    y_points = [y, y, y + side_length, y + side_length, y]\n",
    "    plt.plot(x_points, y_points, color='black')\n",
    "\n",
    "def draw_points(x, y, side_length, distance_x, distance_y):\n",
    "    center_x = x + side_length / 2\n",
    "    center_y = y + side_length / 2\n",
    "    num_points_x = int(side_length / distance_x)\n",
    "    num_points_y = int(side_length / distance_y)\n",
    "    # Initialize a counter\n",
    "    num_points = 0\n",
    "    for i in range(-num_points_x//2, num_points_x//2 + 1):\n",
    "        for j in range(-num_points_y//2, num_points_y//2 + 1):\n",
    "            point_x = center_x + i * distance_x\n",
    "            point_y = center_y + j * distance_y\n",
    "            if point_x >= x and point_x <= x + side_length and point_y >= y and point_y <= y + side_length:\n",
    "                plt.scatter(point_x, point_y, color='black',s=8)\n",
    "                num_points += 1\n",
    "    # Return the total number of points generated inside the box\n",
    "    return num_points\n",
    "\n",
    "\n",
    "def draw_circle(center_x, center_y, radius):\n",
    "    circle = Circle((center_x, center_y), radius, fill=False, color='black')\n",
    "    plt.gca().add_artist(circle)\n",
    "\n",
    "# Draw a square with bottom-left corner at (0, 0) and side length 2\n",
    "draw_square(0, 0, 4)\n",
    "\n",
    "# Draw uniformly spaced points inside the square\n",
    "distance_x = 0.12\n",
    "distance_y = 0.12\n",
    "draw_points(0, 0, 4, distance_x, distance_y)\n",
    "\n",
    "# Draw a circle with center at (0.5, 0.5) and radius 0.25\n",
    "draw_circle(2, 2, 0.70)\n",
    "\n",
    "plt.gca().set_aspect('equal')\n",
    "plt.axis('off')\n",
    "plt.show()\n",
    "\n",
    "num_points = draw_points(0, 0, 4, 0.12, 0.12)\n",
    "print(\"Total number of points generated inside the box:\", num_points)"
   ]
  },
  {
   "cell_type": "code",
   "execution_count": 9,
   "id": "64fa8e80",
   "metadata": {
    "scrolled": true
   },
   "outputs": [
    {
     "name": "stdout",
     "output_type": "stream",
     "text": [
      "number of coords in A: 112\n",
      "number of coords in B: 977\n",
      "      x_coordinate  y_coordinate young's modulus\n",
      "0             0.02          0.02               2\n",
      "1             0.02          0.14               2\n",
      "2             0.02          0.26               2\n",
      "3             0.02          0.38               2\n",
      "4             0.02          0.50               2\n",
      "...            ...           ...             ...\n",
      "1084          3.86          3.38               2\n",
      "1085          3.86          3.50               2\n",
      "1086          3.86          3.62               2\n",
      "1087          3.86          3.74               2\n",
      "1088          3.86          3.86               2\n",
      "\n",
      "[1089 rows x 3 columns]\n"
     ]
    },
    {
     "data": {
      "text/plain": [
       "(1089, 3)"
      ]
     },
     "execution_count": 9,
     "metadata": {},
     "output_type": "execute_result"
    }
   ],
   "source": [
    "# creating dataframe with coordinates and the material\n",
    "\n",
    "# Constants\n",
    "start_x = 0.02; end_x = 3.98; start_y = 0.02; end_y = 3.98\n",
    "center_x = 2; center_y = 2\n",
    "\n",
    "# Loop through radius values\n",
    "for radius in np.arange(0.15, 1.55, 0.5):\n",
    "    df = pd.DataFrame(columns=[\"x_coordinate\", \"y_coordinate\", \"young's modulus\"])\n",
    "\n",
    "    # Generate points and assign material\n",
    "    for x_coord in np.arange(start_x, end_x, distance_x):\n",
    "        for y_coord in np.arange(start_y, end_y, distance_y):\n",
    "            if (x_coord - center_x)**2 + (y_coord - center_y)**2 <= radius**2:\n",
    "                df.loc[len(df.index)] = [x_coord, y_coord, \"1\"]\n",
    "            else:\n",
    "                df.loc[len(df.index)] = [x_coord, y_coord, \"2\"]\n",
    "\n",
    "    # Print summary information\n",
    "    print(\"Radius:\", radius)\n",
    "    print(\"Number of points in material A:\", df[\"young's modulus\"].value_counts()[\"1\"])\n",
    "    print(\"Number of points in material B:\", df[\"young's modulus\"].value_counts()[\"2\"])\n",
    "\n",
    "    # Save dataframe to CSV file with appropriate name\n",
    "    filename = \"csv\" + str(int(radius*100)) + \".csv\"\n",
    "    df.to_csv(filename, index=False)\n",
    "\n",
    "df.shape"
   ]
  },
  {
   "cell_type": "code",
   "execution_count": 20,
   "id": "54dd781d",
   "metadata": {},
   "outputs": [],
   "source": [
    "#convert into 2d array\n",
    "#arr = df.pivot(index='y_coordinate', columns='x_coordinate', values='material').to_numpy()\n",
    "#arr = df.pivot(index='y_coordinate', columns='x_coordinate', values='material').to_numpy().reshape((81, 3))\n",
    "#print(arr)\n",
    "#arr.shape"
   ]
  },
  {
   "cell_type": "code",
   "execution_count": 1,
   "id": "79bdc7b1",
   "metadata": {},
   "outputs": [],
   "source": [
    "#converting the panda data frame in a 2D array\n",
    "#array_2d = df.values\n",
    "#print(array_2d)\n",
    "#array_2d.shape"
   ]
  },
  {
   "cell_type": "code",
   "execution_count": 18,
   "id": "0f7cd579",
   "metadata": {},
   "outputs": [],
   "source": [
    "# Load CSV file into a NumPy array\n",
    "#array_2d = df.to_numpy()\n",
    "#array_2d"
   ]
  },
  {
   "cell_type": "code",
   "execution_count": null,
   "id": "3022bf8a",
   "metadata": {},
   "outputs": [],
   "source": [
    "\n"
   ]
  },
  {
   "cell_type": "code",
   "execution_count": null,
   "id": "5db90c79",
   "metadata": {},
   "outputs": [],
   "source": []
  }
 ],
 "metadata": {
  "kernelspec": {
   "display_name": "Python 3 (ipykernel)",
   "language": "python",
   "name": "python3"
  },
  "language_info": {
   "codemirror_mode": {
    "name": "ipython",
    "version": 3
   },
   "file_extension": ".py",
   "mimetype": "text/x-python",
   "name": "python",
   "nbconvert_exporter": "python",
   "pygments_lexer": "ipython3",
   "version": "3.9.15"
  }
 },
 "nbformat": 4,
 "nbformat_minor": 5
}
