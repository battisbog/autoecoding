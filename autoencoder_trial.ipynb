{
 "cells": [
  {
   "cell_type": "code",
   "execution_count": 3,
   "metadata": {},
   "outputs": [],
   "source": [
    "import tensorflow as tf\n",
    "from tensorflow.keras.layers import Input, Dense\n",
    "from tensorflow.keras.models import Model\n",
    "import numpy as np\n",
    "\n",
    "# Define the number of dimensions in the input data and the encoding dimension\n",
    "input_dim = 2\n",
    "encoding_dim = 1\n",
    "\n",
    "# Define the input layer\n",
    "input_layer = Input(shape=(input_dim,))\n",
    "\n",
    "# Define the encoding layer\n",
    "encoding_layer = Dense(encoding_dim, activation='relu')(input_layer)\n",
    "\n",
    "# Define the decoding layer\n",
    "decoding_layer = Dense(input_dim, activation='sigmoid')(encoding_layer)\n",
    "\n",
    "# Define the autoencoder model\n",
    "autoencoder = Model(inputs=input_layer, outputs=decoding_layer)\n",
    "\n",
    "# Compile the autoencoder model\n",
    "autoencoder.compile(optimizer='adam', loss='mse')\n",
    "\n",
    "# Generate some random 2D points on a grid\n",
    "data = np.random.rand(100, 2)\n",
    "\n",
    "# Train the autoencoder on the data\n",
    "autoencoder.fit(data, data, epochs=50, batch_size=10)\n",
    "\n",
    "# Use the encoder to reduce the dimensionality of the data\n",
    "encoder = Model(inputs=input_layer, outputs=encoding_layer)\n",
    "encoded_data = encoder.predict(data)\n",
    "\n",
    "# Print the original and encoded data\n",
    "print(\"Original data:\")\n",
    "print(data)\n",
    "print(\"Encoded data:\")\n",
    "print(encoded_data)\n",
    "\n"
   ]
  }
 ],
 "metadata": {
  "kernelspec": {
   "display_name": "base",
   "language": "python",
   "name": "python3"
  },
  "language_info": {
   "codemirror_mode": {
    "name": "ipython",
    "version": 3
   },
   "file_extension": ".py",
   "mimetype": "text/x-python",
   "name": "python",
   "nbconvert_exporter": "python",
   "pygments_lexer": "ipython3",
   "version": "3.9.13 (main, Aug 25 2022, 18:29:29) \n[Clang 12.0.0 ]"
  },
  "orig_nbformat": 4,
  "vscode": {
   "interpreter": {
    "hash": "bbbd662d55fd1f342da74959e142e056a3e772d534ac3d94b5a83081a8e30fd8"
   }
  }
 },
 "nbformat": 4,
 "nbformat_minor": 2
}
