{
 "cells": [
  {
   "cell_type": "code",
   "execution_count": 2,
   "metadata": {},
   "outputs": [],
   "source": [
    "import numpy as np\n",
    "import pandas as pd\n",
    "import matplotlib.pyplot as plt\n",
    "from matplotlib.patches import Circle\n",
    "import os\n",
    "\n",
    "def draw_square(x, y, side_length):\n",
    "    x_points = [x, x + side_length, x + side_length, x, x]\n",
    "    y_points = [y, y, y + side_length, y + side_length, y]\n",
    "    plt.plot(x_points, y_points, color='black')\n",
    "\n",
    "def draw_points(x, y, side_length, distance_x, distance_y):\n",
    "    center_x = x + side_length / 2\n",
    "    center_y = y + side_length / 2\n",
    "    num_points_x = int(side_length / distance_x)\n",
    "    num_points_y = int(side_length / distance_y)\n",
    "    for i in range(-num_points_x//2, num_points_x//2 + 1):\n",
    "        for j in range(-num_points_y//2, num_points_y//2 + 1):\n",
    "            point_x = center_x + i * distance_x\n",
    "            point_y = center_y + j * distance_y\n",
    "            if point_x >= x and point_x <= x + side_length and point_y >= y and point_y <= y + side_length:\n",
    "                plt.scatter(point_x, point_y, color='black',s=8)\n",
    "                \n",
    "def draw_circle(center_x, center_y, radius):\n",
    "    circle = Circle((center_x, center_y), radius, fill=False, color='black')\n",
    "    plt.gca().add_artist(circle)\n"
   ]
  },
  {
   "cell_type": "code",
   "execution_count": 3,
   "metadata": {},
   "outputs": [
    {
     "data": {
      "text/plain": [
       "<Figure size 640x480 with 0 Axes>"
      ]
     },
     "metadata": {},
     "output_type": "display_data"
    }
   ],
   "source": [
    "\n",
    "# Define the range of values for the circle coordinates and dimensions\n",
    "\n",
    "num_files = 100\n",
    "min_radius = 0.05\n",
    "max_radius = 0.3\n",
    "min_center_x = min_center_y = 0.2\n",
    "max_center_x = max_center_y = 0.8\n",
    "\n",
    "\n",
    "# Create a folder to store the CSV files\n",
    "\n",
    "if not os.path.exists('csv_files'):\n",
    "    os.makedirs('csv_files')\n",
    "\n",
    "# Loop over the number of files and generate a random circle for each one\n",
    "for i in range(num_files):\n",
    "    \n",
    "    # Generate random circle coordinates and dimensions\n",
    "    radius = np.random.uniform(min_radius, max_radius)\n",
    "    center_x = np.random.uniform(min_center_x, max_center_x)\n",
    "    center_y = np.random.uniform(min_center_y, max_center_y)\n",
    "    \n",
    "    # Generate random material constants\n",
    "    material_1 = np.random.uniform(0, 1)\n",
    "    material_2 = np.random.uniform(0, 1)\n",
    "    \n",
    "    # Define the distance between points inside the square\n",
    "    \n",
    "    distance_x = distance_y = 0.1\n",
    "    \n",
    "    # Create a dataframe with the coordinates and materials for each point\n",
    "    df = pd.DataFrame(columns=[\"x_coordinate\", \"y_coordinate\", \"material\"])\n",
    "    \n",
    "    for x_coord in np.arange(0, 1, distance_x):\n",
    "        for y_coord in np.arange(0, 1, distance_y):\n",
    "            if (x_coord - center_x)**2 + (y_coord - center_y)**2 <= radius**2:\n",
    "                df.loc[len(df.index)] = [x_coord, y_coord, material_1]\n",
    "            else:\n",
    "                df.loc[len(df.index)] = [x_coord, y_coord, material_2]\n",
    "    \n",
    "    # Save the dataframe to a CSV file\n",
    "    file_name = f'csv_files/data_{i+1}.csv'\n",
    "    df.to_csv(file_name, index=False)\n",
    "    \n",
    "    print(f\"Generated file {i+1}/{num_files}: {file_name}\")"
   ]
  }
 ],
 "metadata": {
  "kernelspec": {
   "display_name": "base",
   "language": "python",
   "name": "python3"
  },
  "language_info": {
   "codemirror_mode": {
    "name": "ipython",
    "version": 3
   },
   "file_extension": ".py",
   "mimetype": "text/x-python",
   "name": "python",
   "nbconvert_exporter": "python",
   "pygments_lexer": "ipython3",
   "version": "3.9.13 (main, Aug 25 2022, 18:29:29) \n[Clang 12.0.0 ]"
  },
  "orig_nbformat": 4,
  "vscode": {
   "interpreter": {
    "hash": "bbbd662d55fd1f342da74959e142e056a3e772d534ac3d94b5a83081a8e30fd8"
   }
  }
 },
 "nbformat": 4,
 "nbformat_minor": 2
}
