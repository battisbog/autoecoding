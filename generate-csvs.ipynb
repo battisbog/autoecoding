{
 "cells": [
  {
   "cell_type": "code",
   "execution_count": null,
   "metadata": {},
   "outputs": [],
   "source": [
    "import numpy as np\n",
    "import pandas as pd\n",
    "import matplotlib.pyplot as plt\n",
    "from matplotlib.patches import Circle\n",
    "\n",
    "def draw_square(x, y, side_length):\n",
    "    x_points = [x, x + side_length, x + side_length, x, x]\n",
    "    y_points = [y, y, y + side_length, y + side_length, y]\n",
    "    plt.plot(x_points, y_points, color='black')\n",
    "\n",
    "def draw_points(x, y, side_length, distance_x, distance_y):\n",
    "    center_x = x + side_length / 2\n",
    "    center_y = y + side_length / 2\n",
    "    num_points_x = int(side_length / distance_x)\n",
    "    num_points_y = int(side_length / distance_y)\n",
    "    for i in range(-num_points_x//2, num_points_x//2 + 1):\n",
    "        for j in range(-num_points_y//2, num_points_y//2 + 1):\n",
    "            point_x = center_x + i * distance_x\n",
    "            point_y = center_y + j * distance_y\n",
    "            if point_x >= x and point_x <= x + side_length and point_y >= y and point_y <= y + side_length:\n",
    "                plt.scatter(point_x, point_y, color='black',s=8)\n",
    "                \n",
    "def draw_circle(center_x, center_y, radius):\n",
    "    circle = Circle((center_x, center_y), radius, fill=False, color='black')\n",
    "    plt.gca().add_artist(circle)\n"
   ]
  },
  {
   "cell_type": "code",
   "execution_count": null,
   "metadata": {},
   "outputs": [],
   "source": [
    "# Define grid parameters\n",
    "start_x = 0; end_x = 1; start_y = 0; end_y = 1\n",
    "distance_x = 0.05; distance_y = 0.05\n",
    "\n",
    "# Loop to generate 100 CSV files with random circles\n",
    "for i in range(100):\n",
    "    # Randomly generate circle center coordinates and radius\n",
    "    center_x = np.random.uniform(0.2, 0.8)\n",
    "    center_y = np.random.uniform(0.2, 0.8)\n",
    "    radius = np.random.uniform(0.1, 0.4)\n",
    "    \n",
    "    # Draw the square and circle on a plot\n",
    "    draw_square(start_x, start_y, end_x-start_x)\n",
    "    draw_points(start_x, start_y, end_x-start_x, distance_x, distance_y)\n",
    "    draw_circle(center_x, center_y, radius)\n",
    "\n",
    "    # Create a dataframe to store the material data\n",
    "    df = pd.DataFrame(columns=[\"x_coordinate\", \"y_coordinate\", \"material\"])\n",
    "    # Loop through all the points in the grid\n",
    "    for x_coord in np.arange(start_x, end_x, distance_x):\n",
    "        for y_coord in np.arange(start_y, end_y, distance_y):\n",
    "            if (x_coord - center_x)**2 + (y_coord - center_y)**2 <= radius**2:\n",
    "                df.loc[len(df.index)] = [x_coord, y_coord, \"1\"]\n",
    "            else:\n",
    "                df.loc[len(df.index)] = [x_coord, y_coord, \"0\"]\n",
    "    \n",
    "    # Save the dataframe as a CSV file with a filename containing the circle center and radius\n",
    "    filename = \"sample_data_circle_{}_{}_{}.csv\".format(round(center_x, 4), round(center_y, 4), round(radius, 4))\n",
    "    df.to_csv(filename, index=False)\n",
    "    \n",
    "    # Clear the plot for the next iteration\n",
    "    plt.clf()"
   ]
  }
 ],
 "metadata": {
  "kernelspec": {
   "display_name": "base",
   "language": "python",
   "name": "python3"
  },
  "language_info": {
   "name": "python",
   "version": "3.9.13 (main, Aug 25 2022, 18:29:29) \n[Clang 12.0.0 ]"
  },
  "orig_nbformat": 4,
  "vscode": {
   "interpreter": {
    "hash": "bbbd662d55fd1f342da74959e142e056a3e772d534ac3d94b5a83081a8e30fd8"
   }
  }
 },
 "nbformat": 4,
 "nbformat_minor": 2
}
